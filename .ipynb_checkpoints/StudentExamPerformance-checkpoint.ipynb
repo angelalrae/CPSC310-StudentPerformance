{
 "cells": [
  {
   "cell_type": "markdown",
   "metadata": {},
   "source": [
    "# Project Report: Student Exam Performance\n",
    "CPSC 310, Spring 2019  \n",
    "Alli Felger and Angela Rae  \n",
    "9 May 2019"
   ]
  },
  {
   "cell_type": "markdown",
   "metadata": {},
   "source": [
    "## Introduction\n",
    "In this project, we looked at how demographic and socioeconomic factors affected highs school student exam scores in reading, writing, and math. We used the Students Performance in Exams dataset obtained from kaggle.com, which includes each student’s gender, race/ethnicity (masked as group A through E), parental level of education, free/reduced lunch status, if the student took a preparation course, and the scores for the three exams. We first analyzed the data using a Naive Bayes classifier and a decision tree, which were fairly inaccurate. We next employed (ensemble?) and a neural network. We found..."
   ]
  },
  {
   "cell_type": "markdown",
   "metadata": {},
   "source": [
    "## Data Analysis\n",
    "Our r"
   ]
  }
 ],
 "metadata": {
  "kernelspec": {
   "display_name": "Python 3",
   "language": "python",
   "name": "python3"
  },
  "language_info": {
   "codemirror_mode": {
    "name": "ipython",
    "version": 3
   },
   "file_extension": ".py",
   "mimetype": "text/x-python",
   "name": "python",
   "nbconvert_exporter": "python",
   "pygments_lexer": "ipython3",
   "version": "3.7.2"
  }
 },
 "nbformat": 4,
 "nbformat_minor": 2
}
